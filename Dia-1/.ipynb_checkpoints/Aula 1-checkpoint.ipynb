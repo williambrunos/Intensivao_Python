{
 "cells": [
  {
   "cell_type": "markdown",
   "id": "583b4ba8",
   "metadata": {},
   "source": [
    "# Automatização de Sistemas e Processos com Python\n",
    "\n",
    "## Desafio:\n",
    "\n",
    "Todos os dias, o nosso sistema atualiza as vendas do dia anterior. O seu trabalho diário, como analista, é enviar um e-mail para a diretoria, assim que começar a trabalhar, com o faturamento e a quantidade de produtos vendidos no dia anterior.\n",
    "\n",
    "E-mail da diretoria: [seugmail+diretoria@gmail.com](seugmail+diretoria@gmail.com)\n",
    "\n",
    "Local onde o sistema disponibiliza a base de dados das vendas do dia anterior: [https://drive.google.com/drive/folders/149xknr9JvrlEnhNWO49zPcw0PW5icxga](https://drive.google.com/drive/folders/149xknr9JvrlEnhNWO49zPcw0PW5icxga)\n",
    "\n",
    "Para automatizar processos, utilizaremos **pyautogui**, uma biblioteca de automação de comandos de mouse e do teclado.\n",
    "\n",
    "Comandos pyautogui: [Documentação pyautogui](https://pyautogui.readthedocs.io/en/latest/)"
   ]
  },
  {
   "cell_type": "markdown",
   "id": "c2338613",
   "metadata": {},
   "source": [
    "## Passo a Passo do Desafio:\n",
    "\n",
    "- Passo 1 - Entrar no link onde se encontra a base de dados\n",
    "- Passo 2 - Navegar até a pasta onde se encontra a base (Exportar)\n",
    "- Passo 3 - Baixar a base de dados\n",
    "- Passo 4 - Analisar a base de dados e produzir os insights (Analisar os indicadores)\n",
    "- Passo 5 - Entrar no e-mail\n",
    "- Passo 6 - Enviar os insights para um e-mail específico"
   ]
  }
 ],
 "metadata": {
  "kernelspec": {
   "display_name": "Python 3",
   "language": "python",
   "name": "python3"
  },
  "language_info": {
   "codemirror_mode": {
    "name": "ipython",
    "version": 3
   },
   "file_extension": ".py",
   "mimetype": "text/x-python",
   "name": "python",
   "nbconvert_exporter": "python",
   "pygments_lexer": "ipython3",
   "version": "3.8.8"
  }
 },
 "nbformat": 4,
 "nbformat_minor": 5
}
